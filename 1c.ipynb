{
 "cells": [
  {
   "cell_type": "code",
   "execution_count": null,
   "metadata": {},
   "outputs": [],
   "source": [
    "import matplotlib.pyplot as plt\n",
    "if __name__ == '__main__':\n",
    "    data_1a = open(\"1a.csv\", \"r\")\n",
    "    data_1b = open(\"1b.csv\", \"r\")\n",
    "    x_1a = []\n",
    "    x_1b = []\n",
    "    for row in data_1a:\n",
    "        x_1a.append(int(row))\n",
    "    for row in data_1b:\n",
    "        x_1b.append(int(row))\n",
    "    #print(str(x_1a))\n",
    "    #print(str(x_1b))\n",
    "\n",
    "    # ----line\n",
    "    plt.plot(x_1a, x_1b)\n",
    "    plt.title(\"Line of Random Numbers\")\n",
    "    plt.xlabel(\"X\", size=14)\n",
    "    plt.ylabel(\"Y\", size=14)\n",
    "    plt.savefig('number_line.png')\n",
    "    plt.show()\n",
    "    \n",
    "    #----histogram\n",
    "    #bins = square root of 1000 and round up\n",
    "\n",
    "    plt.hist(x_1a,bins=32, alpha = 0.5, label = \"0-100\")\n",
    "    plt.hist(x_1b,bins=32, alpha = 0.5, label = \"3x+6\")\n",
    "    plt.legend(loc='upper right')\n",
    "    plt.xlabel(\"Number\", size=14)\n",
    "    plt.ylabel(\"Count\", size=14)\n",
    "    plt.title(\"Overlapping Histograms of Random Numbers\")\n",
    "    plt.savefig('number_histogram.png')\n",
    "    plt.show()\n"
   ]
  },
  {
   "cell_type": "code",
   "execution_count": null,
   "metadata": {},
   "outputs": [],
   "source": []
  }
 ],
 "metadata": {
  "kernelspec": {
   "display_name": "Python 3",
   "language": "python",
   "name": "python3"
  },
  "language_info": {
   "codemirror_mode": {
    "name": "ipython",
    "version": 3
   },
   "file_extension": ".py",
   "mimetype": "text/x-python",
   "name": "python",
   "nbconvert_exporter": "python",
   "pygments_lexer": "ipython3",
   "version": "3.7.6"
  }
 },
 "nbformat": 4,
 "nbformat_minor": 4
}
