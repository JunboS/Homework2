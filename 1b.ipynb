{
 "cells": [
  {
   "cell_type": "code",
   "execution_count": null,
   "metadata": {},
   "outputs": [],
   "source": [
    "if __name__ == '__main__':\n",
    "    input_file = open(\"1a.csv\", \"r\")\n",
    "    output_file = open(\"1b.csv\", \"a\")\n",
    "    lines = input_file.readlines()\n",
    "    numbers =[]\n",
    "    for line in lines:\n",
    "        x=int(line.strip())\n",
    "        y = 3*x+6\n",
    "        output_file.write(str(y)+'\\n')\n",
    "        numbers.append(y)\n",
    "    print(numbers)\n",
    "    input_file.close()\n",
    "    output_file.close()"
   ]
  }
 ],
 "metadata": {
  "kernelspec": {
   "display_name": "Python 3",
   "language": "python",
   "name": "python3"
  },
  "language_info": {
   "codemirror_mode": {
    "name": "ipython",
    "version": 3
   },
   "file_extension": ".py",
   "mimetype": "text/x-python",
   "name": "python",
   "nbconvert_exporter": "python",
   "pygments_lexer": "ipython3",
   "version": "3.7.6"
  }
 },
 "nbformat": 4,
 "nbformat_minor": 4
}
