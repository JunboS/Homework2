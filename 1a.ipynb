{
 "cells": [
  {
   "cell_type": "code",
   "execution_count": null,
   "metadata": {},
   "outputs": [],
   "source": [
    "import random\n",
    "if __name__ == '__main__':\n",
    "    f = open(\"1a.csv\", \"a\")\n",
    "    numbers = []\n",
    "    for x in range(1000):\n",
    "        numbers.append(random.randint(0, 100))\n",
    "    #sort\n",
    "    numbers.sort()\n",
    "    for num in numbers:\n",
    "        f.write(str(num)+'\\n')\n",
    "\n",
    "    print(numbers)\n",
    "    f.close()\n"
   ]
  },
  {
   "cell_type": "code",
   "execution_count": null,
   "metadata": {},
   "outputs": [],
   "source": []
  }
 ],
 "metadata": {
  "kernelspec": {
   "display_name": "Python 3",
   "language": "python",
   "name": "python3"
  },
  "language_info": {
   "codemirror_mode": {
    "name": "ipython",
    "version": 3
   },
   "file_extension": ".py",
   "mimetype": "text/x-python",
   "name": "python",
   "nbconvert_exporter": "python",
   "pygments_lexer": "ipython3",
   "version": "3.7.6"
  }
 },
 "nbformat": 4,
 "nbformat_minor": 4
}
